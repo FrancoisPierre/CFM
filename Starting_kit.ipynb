{
 "cells": [
  {
   "cell_type": "markdown",
   "metadata": {},
   "source": [
    "# CFM Volatility Prediction in Financial Markets"
   ]
  },
  {
   "cell_type": "markdown",
   "metadata": {},
   "source": [
    "This notebook implements a very basic linear model for CFM Volatility Prediction Challenge (https://challengedata.ens.fr/en/challenge/34/volatility_prediction_in_financial_markets.html). The public score of this model is **23.3842**."
   ]
  },
  {
   "cell_type": "code",
   "execution_count": 1,
   "metadata": {
    "collapsed": true
   },
   "outputs": [],
   "source": [
    "import numpy as np\n",
    "import pandas as pd\n",
    "\n",
    "%matplotlib inline"
   ]
  },
  {
   "cell_type": "markdown",
   "metadata": {},
   "source": [
    "## Load the data"
   ]
  },
  {
   "cell_type": "code",
   "execution_count": 2,
   "metadata": {
    "collapsed": false
   },
   "outputs": [],
   "source": [
    "train_X = pd.read_csv('training_input.csv', sep=';')\n",
    "train_y = pd.read_csv('training_output.csv', sep=';')\n",
    "test_X  = pd.read_csv('testing_input.csv', sep=';')"
   ]
  },
  {
   "cell_type": "markdown",
   "metadata": {},
   "source": [
    "## Impute missing values"
   ]
  },
  {
   "cell_type": "markdown",
   "metadata": {},
   "source": [
    "Since we will not use the returns in this simple model, we can simply drop them :"
   ]
  },
  {
   "cell_type": "code",
   "execution_count": 3,
   "metadata": {
    "collapsed": true
   },
   "outputs": [],
   "source": [
    "train_X = train_X.drop(train_X.columns[57:], axis=1)\n",
    "test_X  = test_X.drop(test_X.columns[57:], axis=1)"
   ]
  },
  {
   "cell_type": "markdown",
   "metadata": {},
   "source": [
    "We linearly interpolate the NaNs corresponding to volatilities :"
   ]
  },
  {
   "cell_type": "code",
   "execution_count": 4,
   "metadata": {
    "collapsed": false
   },
   "outputs": [],
   "source": [
    "train_X.iloc[:,3:] = train_X.iloc[:,3:].interpolate(axis=1)\n",
    "test_X.iloc[:,3:]  = test_X.iloc[:,3:].interpolate(axis=1)"
   ]
  },
  {
   "cell_type": "markdown",
   "metadata": {},
   "source": [
    "The 09:30 and 13:55 volatilities cannot be interpolated, so we simply replace them by 0 :"
   ]
  },
  {
   "cell_type": "code",
   "execution_count": 5,
   "metadata": {
    "collapsed": true
   },
   "outputs": [],
   "source": [
    "train_X.fillna(0, inplace=True) \n",
    "test_X.fillna(0, inplace=True)"
   ]
  },
  {
   "cell_type": "markdown",
   "metadata": {},
   "source": [
    "## Feature engineering"
   ]
  },
  {
   "cell_type": "markdown",
   "metadata": {},
   "source": [
    "We create very basic features :"
   ]
  },
  {
   "cell_type": "code",
   "execution_count": 6,
   "metadata": {
    "collapsed": false
   },
   "outputs": [],
   "source": [
    "train_X['min_vol']    = np.min(train_X.iloc[:,3:], axis=1)\n",
    "train_X['max_vol']    = np.max(train_X.iloc[:,3:], axis=1)\n",
    "train_X['std_vol']    = np.std(train_X.iloc[:,3:], axis=1)\n",
    "train_X['median_vol'] = np.median(train_X.iloc[:,3:], axis=1)"
   ]
  },
  {
   "cell_type": "code",
   "execution_count": 7,
   "metadata": {
    "collapsed": false
   },
   "outputs": [],
   "source": [
    "test_X['min_vol']    = np.min(test_X.iloc[:,3:], axis=1)\n",
    "test_X['max_vol']    = np.max(test_X.iloc[:,3:], axis=1)\n",
    "test_X['std_vol']    = np.std(test_X.iloc[:,3:], axis=1)\n",
    "test_X['median_vol'] = np.median(test_X.iloc[:,3:], axis=1)"
   ]
  },
  {
   "cell_type": "markdown",
   "metadata": {},
   "source": [
    "## Validation"
   ]
  },
  {
   "cell_type": "code",
   "execution_count": 8,
   "metadata": {
    "collapsed": true
   },
   "outputs": [],
   "source": [
    "def MAPE(y_true, y_pred):\n",
    "    return np.mean(np.abs((y_true - y_pred) / y_true)) * 100"
   ]
  },
  {
   "cell_type": "code",
   "execution_count": 9,
   "metadata": {
    "collapsed": false
   },
   "outputs": [],
   "source": [
    "from sklearn.model_selection import train_test_split\n",
    "\n",
    "train_X = train_X.merge(train_y, on='ID')\n",
    "train_X.drop(['ID', 'date', 'product_id'], axis=1, inplace=True)\n",
    "\n",
    "train_X_, test_X_, train_y_, test_y_ = train_test_split(train_X.iloc[:,:-1], train_X['TARGET'], test_size=0.2, random_state=42)"
   ]
  },
  {
   "cell_type": "markdown",
   "metadata": {},
   "source": [
    "### Weighted Linear Regression"
   ]
  },
  {
   "cell_type": "code",
   "execution_count": 10,
   "metadata": {
    "collapsed": false
   },
   "outputs": [
    {
     "data": {
      "text/plain": [
       "LinearRegression(copy_X=True, fit_intercept=True, n_jobs=1, normalize=False)"
      ]
     },
     "execution_count": 10,
     "metadata": {},
     "output_type": "execute_result"
    }
   ],
   "source": [
    "from sklearn.linear_model import LinearRegression\n",
    "\n",
    "regrLinWeighted = LinearRegression()\n",
    "regrLinWeighted.fit(train_X_, train_y_, sample_weight=(1./train_y_))"
   ]
  },
  {
   "cell_type": "code",
   "execution_count": 11,
   "metadata": {
    "collapsed": false
   },
   "outputs": [
    {
     "name": "stdout",
     "output_type": "stream",
     "text": [
      "Train error = 23.577 %\n",
      "Test error  = 23.8831 %\n"
     ]
    }
   ],
   "source": [
    "print('Train error =', round(MAPE(train_y_, regrLinWeighted.predict(train_X_)), 4), '%')\n",
    "print('Test error  =', round(MAPE(test_y_, regrLinWeighted.predict(test_X_)), 4), '%')"
   ]
  },
  {
   "cell_type": "markdown",
   "metadata": {},
   "source": [
    "## Prediction"
   ]
  },
  {
   "cell_type": "code",
   "execution_count": 12,
   "metadata": {
    "collapsed": true
   },
   "outputs": [],
   "source": [
    "from sklearn.linear_model import LinearRegression\n",
    "\n",
    "regrLinWeighted = LinearRegression()\n",
    "regrLinWeighted.fit(train_X.iloc[:,:-1], train_X['TARGET'], sample_weight=(1./train_X['TARGET']))\n",
    "\n",
    "test_X['PREDICT'] = regrLinWeighted.predict(test_X.iloc[:,3:])"
   ]
  },
  {
   "cell_type": "code",
   "execution_count": 13,
   "metadata": {
    "collapsed": true
   },
   "outputs": [],
   "source": [
    "predictions = test_X[['ID', 'PREDICT']]\n",
    "predictions.columns = ['ID', 'TARGET']"
   ]
  },
  {
   "cell_type": "code",
   "execution_count": 14,
   "metadata": {
    "collapsed": true
   },
   "outputs": [],
   "source": [
    "predictions.to_csv('predictions.csv', sep=';', index=False)"
   ]
  }
 ],
 "metadata": {
  "anaconda-cloud": {},
  "kernelspec": {
   "display_name": "Python [conda root]",
   "language": "python",
   "name": "conda-root-py"
  },
  "language_info": {
   "codemirror_mode": {
    "name": "ipython",
    "version": 3
   },
   "file_extension": ".py",
   "mimetype": "text/x-python",
   "name": "python",
   "nbconvert_exporter": "python",
   "pygments_lexer": "ipython3",
   "version": "3.5.2"
  }
 },
 "nbformat": 4,
 "nbformat_minor": 1
}
